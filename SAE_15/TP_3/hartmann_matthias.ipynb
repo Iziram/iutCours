{
 "cells": [
  {
   "cell_type": "markdown",
   "metadata": {},
   "source": [
    "# Présentation des données TP 3 SAE 15"
   ]
  },
  {
   "cell_type": "code",
   "execution_count": 6,
   "metadata": {},
   "outputs": [],
   "source": [
    "from typing import Dict, List\n",
    "import numpy as np \n",
    "import csv\n",
    "from random import sample\n",
    "import matplotlib.colors as mcolors\n",
    "import matplotlib.pyplot as plt\n",
    "\n",
    "\n",
    "def csvToDict(f : str) -> Dict[str,np.ndarray]:\n",
    "    \"\"\"Fonction chargeant les données stockées dans le fichier f et retournant un dictionnaire où les clés sont les différents noms de fichiers décrits et les valeurs (taille en ko, timestamp) sont stockées dans un ndarray\n",
    "\n",
    "    Args:\n",
    "        f (str): Le nom du fichier à charger\n",
    "\n",
    "    Returns:\n",
    "        Dict[str,np.ndarray]: les clés sont les noms des fichiers observés et les valeurs un ndarray de dimension 2 [taille,timestamp]\n",
    "    \"\"\"\n",
    "    ret : Dict[str, np.ndarray] = dict()\n",
    "    c : str = \"\"\n",
    "    with open(f, newline='') as csvfile:\n",
    "        datareader = csv.reader(csvfile, delimiter=',', quotechar='|')\n",
    "        for row in datareader:\n",
    "            c = row[0]\n",
    "            if c not in ret.keys():\n",
    "                ret[c] = np.array([[int(row[1]), int(row[2])]])\n",
    "            else:\n",
    "                ret[c] = np.append(ret[c], [[int(row[1]), int(row[2])]],axis=0)\n",
    "    return ret\n",
    "\n",
    "\n",
    "def augmentationMoyenne(tab : np.ndarray) -> float:\n",
    "    \"\"\"[summary]\n",
    "\n",
    "    Args:\n",
    "        tab (np.ndarray): [description]\n",
    "\n",
    "    Returns:\n",
    "        float: [description]\n",
    "    \"\"\"\n",
    "    #dernière taille observée - première / nombre d'observations\n",
    "    augMoy : float = (tab[len(tab)-1][0] - tab[0][0]) / len(tab)\n",
    "    return augMoy\n",
    "    aug : float = 0\n",
    "    lastS : float or None = None\n",
    "    for i in tab:\n",
    "        if lastS is None:\n",
    "            lastS = i[0]\n",
    "        else:\n",
    "            aug = aug + (i[0] - lastS)\n",
    "            lastS = i[0]\n",
    "    return aug / (len(tab) - 1)\n",
    "\n",
    "\n",
    "def plusGrandeAugmentation(tab : np.ndarray) -> (float,int):\n",
    "    \"\"\"[summary]\n",
    "\n",
    "    Args:\n",
    "        tab (np.ndarray): [description]\n",
    "\n",
    "    Returns:\n",
    "        float: [description]\n",
    "    \"\"\"\n",
    "    maxaug : float = 0\n",
    "    taug : int or None = None\n",
    "    lastS : float or None = None\n",
    "    for i in tab:\n",
    "        if lastS is None:\n",
    "            lastS = i[0]\n",
    "        else:\n",
    "            aug = (i[0] - lastS)\n",
    "            if aug > maxaug:\n",
    "                maxaug, taug =  aug, i[1]\n",
    "            lastS = i[0]\n",
    "    return (maxaug,taug)\n",
    "\n",
    "def limiteAtteinte(tab : np.ndarray, limite : int) -> int or None:\n",
    "    \"\"\"[summary]\n",
    "\n",
    "    Args:\n",
    "        tab (np.ndarray): [description]\n",
    "\n",
    "    Returns:\n",
    "        int or None: [description]\n",
    "    \"\"\"\n",
    "    res : int = None\n",
    "    i : int = 0\n",
    "    while i < len(tab) and tab[i][0] < limite:\n",
    "        i = i + 1\n",
    "    if i < len(tab):\n",
    "        res = tab[i][1]\n",
    "    return res\n",
    "\n",
    "f = \"donneesTP2_SAE15.csv\"\n",
    "res = csvToDict(f)\n"
   ]
  },
  {
   "cell_type": "markdown",
   "metadata": {},
   "source": [
    "### Fonction permettant de calculer la répartition de la taille des fichiers au timestamp \"nb\""
   ]
  },
  {
   "cell_type": "code",
   "execution_count": 7,
   "metadata": {},
   "outputs": [],
   "source": [
    "def repartition(d: Dict[str, np.ndarray], nb: int) -> Dict[str, float]:\n",
    "    \"\"\"!\n",
    "    @brief Calcule la répartition de la taille des fichiers à l'observation nb\n",
    "\n",
    "    Paramètres : \n",
    "        @param d : Dict[str,np.ndarray] => les clés sont les noms de fichiers, les valeurs un ndarray de dimension 2\n",
    "        @param nb : int => le timestamp\n",
    "    Retour de la fonction : \n",
    "        @return Dict[str, float] => Les clés sont les noms des fichiers observés et la valeur un réel représentant en relatif la place prise par le fichier dans le répertoire\n",
    "\n",
    "    \"\"\"\n",
    "    \n",
    "    dico : Dict[str, np.ndarray] = {}\n",
    "    l : List[int] = []\n",
    "    for clef in d :\n",
    "        i = 0\n",
    "        while i < d[clef].shape[0]:\n",
    "            if d[clef][i,1] == nb :\n",
    "                l.append(d[clef][i,0])\n",
    "                i = d[clef].shape[0]\n",
    "            i += 1\n",
    "    \n",
    "    for i in range(len(l)):\n",
    "        proportion : float = l[i] / sum(l)\n",
    "        dico[list(d.keys())[i]] = proportion\n",
    "    \n",
    "    return dico"
   ]
  },
  {
   "cell_type": "code",
   "execution_count": 8,
   "metadata": {},
   "outputs": [
    {
     "name": "stdout",
     "output_type": "stream",
     "text": [
      "{'/home/toto/Tmp/f1': 0.05, '/home/toto/Tmp/f2': 0.885, '/home/toto/Tmp/f3': 0.065}\n"
     ]
    }
   ],
   "source": [
    "print(repartition(res, 1636974960))"
   ]
  },
  {
   "cell_type": "markdown",
   "metadata": {},
   "source": [
    "### Procédure d'affichage des camemberts\n",
    "#### Le premier camembert représente la répartition de la taille des fichiers lors de la première observation \n",
    "#### Le second camembert représente la répartition de la taille des fichiers lors de la dernière observation "
   ]
  },
  {
   "cell_type": "code",
   "execution_count": 9,
   "metadata": {},
   "outputs": [],
   "source": [
    "def affichageCamembert(d : Dict[str, np.ndarray]) :\n",
    "    \"\"\"!\n",
    "    @brief Affiche 2 camemberts représentant la proportion des fichiers à la première observation et à la dernière\n",
    "\n",
    "    Paramètres : \n",
    "        @param d : Dict[str,np.ndarray] => les clés sont les noms de fichiers, les valeurs un ndarray de dimension 2\n",
    "    \"\"\"\n",
    "    \n",
    "    #Premier camembert\n",
    "    labels : List[str] = list(d.keys())\n",
    "    sizes : List[float] = repartition(d, d[labels[0]][0,1]).values()\n",
    "    colors : List[str] = sample(mcolors.CSS4_COLORS.keys(), len(sizes))\n",
    "    plt.subplot(1,2,1)\n",
    "    plt.pie(sizes, labels=labels, colors=colors)\n",
    "    \n",
    "    #Second camembert\n",
    "    labels : List[str] = list(d.keys())\n",
    "    sizes : List[float] = repartition(d, d[labels[0]][d[labels[0]].shape[0]-1,1]).values()\n",
    "    colors : List[str] = sample(mcolors.CSS4_COLORS.keys(), len(sizes))\n",
    "    plt.subplot(1,2,2)\n",
    "    plt.pie(sizes, labels=labels, colors=colors)\n",
    "    \n",
    "    plt.show()"
   ]
  },
  {
   "cell_type": "code",
   "execution_count": 10,
   "metadata": {},
   "outputs": [
    {
     "name": "stderr",
     "output_type": "stream",
     "text": [
      "<ipython-input-9-39938b395f05>:12: DeprecationWarning: Sampling from a set deprecated\n",
      "since Python 3.9 and will be removed in a subsequent version.\n",
      "  colors : List[str] = sample(mcolors.CSS4_COLORS.keys(), len(sizes))\n",
      "<ipython-input-9-39938b395f05>:19: DeprecationWarning: Sampling from a set deprecated\n",
      "since Python 3.9 and will be removed in a subsequent version.\n",
      "  colors : List[str] = sample(mcolors.CSS4_COLORS.keys(), len(sizes))\n"
     ]
    },
    {
     "data": {
      "image/png": "[encoded data removed]",
      "text/plain": [
       "<Figure size 432x288 with 2 Axes>"
      ]
     },
     "metadata": {},
     "output_type": "display_data"
    }
   ],
   "source": [
    "affichageCamembert(res)"
   ]
  }
 ],
 "metadata": {
  "interpreter": {
   "hash": "e7370f93d1d0cde622a1f8e1c04877d8463912d04d973331ad4851f04de6915a"
  },
  "kernelspec": {
   "display_name": "Python 3.9.2 64-bit",
   "language": "python",
   "name": "python3"
  },
  "language_info": {
   "codemirror_mode": {
    "name": "ipython",
    "version": 3
   },
   "file_extension": ".py",
   "mimetype": "text/x-python",
   "name": "python",
   "nbconvert_exporter": "python",
   "pygments_lexer": "ipython3",
   "version": "3.9.2"
  },
  "orig_nbformat": 4
 },
 "nbformat": 4,
 "nbformat_minor": 2
}
