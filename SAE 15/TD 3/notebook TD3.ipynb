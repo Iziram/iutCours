{
 "cells": [
  {
   "cell_type": "markdown",
   "id": "statewide-addiction",
   "metadata": {},
   "source": [
    "# Nouveau Notebook pour le TD 3\n",
    "## C'est cool"
   ]
  },
  {
   "cell_type": "code",
   "execution_count": 1,
   "id": "accomplished-brighton",
   "metadata": {},
   "outputs": [],
   "source": [
    "import numpy as np\n",
    "import matplotlib.pyplot as plt\n",
    "\n",
    "def partie1 (data1, data2) :\n",
    "    fig, axs = plt.subplots(2)\n",
    "    axs[0].scatter(data1[: , 0],data1[: , 1])\n",
    "    axs[1].scatter(data2[: , 0],data2[: , 1])\n",
    "    plt.show()\n",
    "\n",
    "def partie2(data:np.ndarray) :\n",
    "    maxi = data.max(0)\n",
    "    mini = data.min(0)\n",
    "    moy = data.mean(0)\n",
    "    std = data.std(0)\n",
    "    \n",
    "    #plt.errorbar([étiquette1, étiquette2...], \"point central à placer\", [\"taille min de l'error bar\", \"taille max de l'error bar\"])\n",
    "    plt.errorbar(['x','y'], moy, std, fmt='ok', lw=1, capsize=2, elinewidth=2)\n",
    "    plt.errorbar(['x','y'], moy, [moy-mini, maxi-moy], fmt='.k', lw=1, capsize=1, elinewidth=1, ecolor=\"gray\")\n",
    "    \n",
    "    \n",
    "    plt.show()"
   ]
  },
  {
   "cell_type": "code",
   "execution_count": 3,
   "id": "bridal-default",
   "metadata": {},
   "outputs": [
    {
     "data": {
      "image/png": "[encoded data removed]",
      "text/plain": [
       "<Figure size 432x288 with 2 Axes>"
      ]
     },
     "metadata": {
      "needs_background": "light"
     },
     "output_type": "display_data"
    }
   ],
   "source": [
    "data1 : np.ndarray = np.genfromtxt(\"/home/iziram/Documents/GitHub/iutCours/SAE 15/data1.csv\", delimiter=\",\")\n",
    "data2 : np.ndarray = np.genfromtxt(\"/home/iziram/Documents/GitHub/iutCours/SAE 15/data2.csv\", delimiter=\",\")\n",
    "\n",
    "partie1(data1,data2)"
   ]
  },
  {
   "cell_type": "code",
   "execution_count": 4,
   "id": "naked-embassy",
   "metadata": {},
   "outputs": [
    {
     "data": {
      "image/png": "[encoded data removed]",
      "text/plain": [
       "<Figure size 432x288 with 1 Axes>"
      ]
     },
     "metadata": {
      "needs_background": "light"
     },
     "output_type": "display_data"
    }
   ],
   "source": [
    "partie2(data1)"
   ]
  },
  {
   "cell_type": "code",
   "execution_count": null,
   "id": "surprised-steering",
   "metadata": {},
   "outputs": [],
   "source": []
  }
 ],
 "metadata": {
  "kernelspec": {
   "display_name": "Python 3",
   "language": "python",
   "name": "python3"
  },
  "language_info": {
   "codemirror_mode": {
    "name": "ipython",
    "version": 3
   },
   "file_extension": ".py",
   "mimetype": "text/x-python",
   "name": "python",
   "nbconvert_exporter": "python",
   "pygments_lexer": "ipython3",
   "version": "3.9.2"
  }
 },
 "nbformat": 4,
 "nbformat_minor": 5
}
